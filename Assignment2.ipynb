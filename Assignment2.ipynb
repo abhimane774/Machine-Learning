{
 "cells": [
  {
   "cell_type": "markdown",
   "metadata": {},
   "source": [
    "# Assignment2"
   ]
  },
  {
   "cell_type": "markdown",
   "metadata": {},
   "source": [
    "1.Create 2D array and get sum of diagonal elements."
   ]
  },
  {
   "cell_type": "code",
   "execution_count": 1,
   "metadata": {},
   "outputs": [
    {
     "name": "stdout",
     "output_type": "stream",
     "text": [
      "Array:\n",
      " [[ 1  2  3  4]\n",
      " [ 5  6  7  8]\n",
      " [ 9 10 11 12]\n",
      " [13 14 15 16]]\n",
      "\n",
      "Diagonal element: [ 1  6 11 16]\n",
      "\n",
      "Sum of Diagonal elements: 136\n"
     ]
    }
   ],
   "source": [
    "import numpy as np\n",
    "array1 = np.array([[1, 2, 3, 4], [5, 6, 7, 8], [9, 10, 11, 12], [13, 14, 15, 16]])\n",
    "print(\"Array:\\n\",array1)\n",
    "array_dig= array1.diagonal()    \n",
    "print(\"\\nDiagonal element:\",array_dig) \n",
    "print(\"\\nSum of Diagonal elements:\",np.sum(array1))"
   ]
  },
  {
   "cell_type": "markdown",
   "metadata": {},
   "source": [
    "2. Slice the 2D array into multiple 1D arrays by rows."
   ]
  },
  {
   "cell_type": "code",
   "execution_count": 15,
   "metadata": {},
   "outputs": [
    {
     "name": "stdout",
     "output_type": "stream",
     "text": [
      "[array([[1, 2, 3, 4]]), array([[5, 6, 7, 8]]), array([[ 9, 10, 11, 12]]), array([[13, 14, 15, 16]])]\n"
     ]
    }
   ],
   "source": [
    "arr1 = np.split(array1,4)\n",
    "print(arr1)"
   ]
  },
  {
   "cell_type": "markdown",
   "metadata": {},
   "source": [
    "3. Print the array element from all 1D array where index is even number and store it in another array."
   ]
  },
  {
   "cell_type": "code",
   "execution_count": 13,
   "metadata": {},
   "outputs": [
    {
     "name": "stdout",
     "output_type": "stream",
     "text": [
      "[1 3 5 7 9 11 13 15]\n"
     ]
    }
   ],
   "source": [
    "arr2 = np.concatenate(arr1)\n",
    "arr2 = arr2.ravel()\n",
    "arr3 = np.empty(0, dtype=object)\n",
    "for i in range(0,len(arr2)):\n",
    "    if i%2==0:\n",
    "        arr3=np.append(arr3,arr2[i])\n",
    "print(arr3)"
   ]
  },
  {
   "cell_type": "markdown",
   "metadata": {},
   "source": [
    "4. Take the all output arrays of step 3 and create 2-D array from that and print that array and also dimension of that array."
   ]
  },
  {
   "cell_type": "code",
   "execution_count": 14,
   "metadata": {},
   "outputs": [
    {
     "name": "stdout",
     "output_type": "stream",
     "text": [
      "[[1 3 5 7]\n",
      " [9 11 13 15]]\n",
      "Shape of array: (2, 4)\n"
     ]
    }
   ],
   "source": [
    "arr4 = arr3.reshape(2,4)\n",
    "print(arr4)\n",
    "print(\"Deminsions of array:\",arr4.shape)"
   ]
  }
 ],
 "metadata": {
  "kernelspec": {
   "display_name": "Python 3",
   "language": "python",
   "name": "python3"
  },
  "language_info": {
   "codemirror_mode": {
    "name": "ipython",
    "version": 3
   },
   "file_extension": ".py",
   "mimetype": "text/x-python",
   "name": "python",
   "nbconvert_exporter": "python",
   "pygments_lexer": "ipython3",
   "version": "3.7.6"
  }
 },
 "nbformat": 4,
 "nbformat_minor": 4
}
